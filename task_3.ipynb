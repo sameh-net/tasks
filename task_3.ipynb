{
  "cells": [
    {
      "cell_type": "markdown",
      "id": "ff38aad7",
      "metadata": {
        "id": "ff38aad7"
      },
      "source": [
        "### 1-Write a Python program that takes two numbers as user input and performs addition on them."
      ]
    },
    {
      "cell_type": "code",
      "execution_count": null,
      "id": "91696b79",
      "metadata": {
        "id": "91696b79"
      },
      "outputs": [],
      "source": [
        "x=int(input(\"enter 1st number\"))\n",
        "y=int(input(\"enter 2ec number\"))\n",
        "sum=x+y\n",
        "print(\"summation =\",sum)\n"
      ]
    },
    {
      "cell_type": "markdown",
      "id": "360854ff",
      "metadata": {
        "id": "360854ff"
      },
      "source": [
        "### 2-Write a Python program that takes an integer as input and checks if it is even or odd. Print \"Even\" if the number is divisible by 2, otherwise print \"Odd\"."
      ]
    },
    {
      "cell_type": "code",
      "execution_count": null,
      "id": "ee4c35fe",
      "metadata": {
        "ExecuteTime": {
          "end_time": "2023-07-23T21:35:24.351946Z",
          "start_time": "2023-07-23T21:35:23.287212Z"
        },
        "id": "ee4c35fe"
      },
      "outputs": [],
      "source": [
        "x=int(input(\"enter a number\"))\n",
        "if x%2==0:\n",
        "  print(\"number is even\")\n",
        "else:\n",
        "  print(\"number is odd\")\n"
      ]
    },
    {
      "cell_type": "markdown",
      "id": "6ea0354c",
      "metadata": {
        "id": "6ea0354c"
      },
      "source": [
        "### 3-Write a Python program that prints all the even numbers from 1 to 20 using a for loop"
      ]
    },
    {
      "cell_type": "code",
      "execution_count": null,
      "id": "df43b7f5",
      "metadata": {
        "ExecuteTime": {
          "end_time": "2023-07-23T21:36:51.373589Z",
          "start_time": "2023-07-23T21:36:51.365580Z"
        },
        "id": "df43b7f5"
      },
      "outputs": [],
      "source": [
        "for i in range(0,20,2):\n",
        " if i%2==0:\n",
        "  print(\"\",i)\n"
      ]
    },
    {
      "cell_type": "markdown",
      "id": "2d66bab2",
      "metadata": {
        "id": "2d66bab2"
      },
      "source": [
        "### 4-Write a Python function that takes a string as input and counts the number of vowels (a, e, i, o, u) in the string. The function should return the count"
      ]
    },
    {
      "cell_type": "code",
      "execution_count": null,
      "id": "a37a84fd",
      "metadata": {
        "ExecuteTime": {
          "end_time": "2023-07-23T21:45:58.522044Z",
          "start_time": "2023-07-23T21:45:58.514370Z"
        },
        "id": "a37a84fd"
      },
      "outputs": [],
      "source": [
        "x=(input(\"enter a word\"))\n",
        "i=\"AaEeIiOoUu\"\n",
        "count=0\n",
        "for char in x:\n",
        "  if char in i:\n",
        "    count+=1\n",
        "print(\"number of vowels\",count)\n"
      ]
    },
    {
      "cell_type": "markdown",
      "id": "a9a0ea06",
      "metadata": {
        "id": "a9a0ea06"
      },
      "source": [
        "### 5-Write a Python program that creates a list of numbers from 1 to 10. Use a loop to iterate over the list and print each number of power 2."
      ]
    },
    {
      "cell_type": "code",
      "execution_count": null,
      "id": "6fa658cf",
      "metadata": {
        "ExecuteTime": {
          "end_time": "2023-07-23T21:48:02.328880Z",
          "start_time": "2023-07-23T21:48:02.314313Z"
        },
        "id": "6fa658cf"
      },
      "outputs": [],
      "source": [
        "x=list(range(1,11,1))\n",
        "for num in x:\n",
        " power=num**2\n",
        " print(\"\",power)\n"
      ]
    },
    {
      "cell_type": "markdown",
      "id": "430c9df9",
      "metadata": {
        "id": "430c9df9"
      },
      "source": [
        "### 6-Write a Python program that calculates the average grade for a student based on their scores in different subjects. The program should include the following steps:\n",
        "\n",
        "#### 1-Create variables to store the student's name, subject names, and corresponding scores. Initialize the variables with sample data.\n",
        "\n",
        "#### 2-Prompt the user to enter the student's name and assign it to the name variable.\n",
        "\n",
        "#### 3-Use a loop to prompt the user to enter the subject names and corresponding scores. Store the subject names in a list and the scores in another list.\n",
        "\n",
        "#### 4-After collecting the scores, calculate the average grade by summing up all the scores and dividing by the total number of subjects.\n",
        "\n",
        "#### 5-Check if the average grade is above a 70, print a congratulatory message. Otherwise, print an encouragement message."
      ]
    },
    {
      "cell_type": "code",
      "execution_count": null,
      "id": "e0254271",
      "metadata": {
        "ExecuteTime": {
          "end_time": "2023-07-15T16:16:17.066909Z",
          "start_time": "2023-07-15T16:16:07.636799Z"
        },
        "id": "e0254271"
      },
      "outputs": [],
      "source": [
        "name=input(\"enter yor name\")\n",
        "supject=input(\"enter subject seperated buy spaces\").split(\" \")\n",
        "scores=list(map(int,input(\"enter your scores seperated by spaces\").split(\" \")))\n",
        "subjects_num=len(supject)\n",
        "score_sum=sum(scores)\n",
        "average=score_sum/subjects_num\n",
        "if average>70:\n",
        " print(\"congratulations\")\n",
        "else:\n",
        "    print(\"you can do better\")\n"
      ]
    },
    {
      "cell_type": "markdown",
      "id": "ae9df360",
      "metadata": {
        "id": "ae9df360"
      },
      "source": [
        "### 7-Find Common Elements\n",
        "### Write a Python function that takes two lists as input and returns a new list containing the common elements present in both lists."
      ]
    },
    {
      "cell_type": "code",
      "execution_count": 8,
      "id": "d030c3c0",
      "metadata": {
        "ExecuteTime": {
          "end_time": "2023-07-23T22:08:16.794474Z",
          "start_time": "2023-07-23T22:08:16.775639Z"
        },
        "id": "d030c3c0",
        "outputId": "aa47a77a-2d0a-45ec-bae2-442025d6d53e",
        "colab": {
          "base_uri": "https://localhost:8080/"
        }
      },
      "outputs": [
        {
          "output_type": "stream",
          "name": "stdout",
          "text": [
            "Enter a list of numbers separated by commas1,2,3,4,5\n",
            "Enter another list of numbers separated by commas4,8,9,7,5\n",
            " [4, 5]\n"
          ]
        }
      ],
      "source": [
        "x=list(map(int,input(\"Enter a list of numbers separated by commas\").split(\",\")))\n",
        "y=list(map(int,input(\"Enter another list of numbers separated by commas\").split(\",\")))\n",
        "set1=set(x)\n",
        "set2=set(y)\n",
        "\n",
        "common= set1 & set2\n",
        "common_list = list(common)\n",
        "\n",
        "print(\"\",common_list)\n"
      ]
    },
    {
      "cell_type": "markdown",
      "id": "9a2f34cb",
      "metadata": {
        "id": "9a2f34cb"
      },
      "source": [
        "### 8-Write a Python function that takes a list of numbers and an element to remove from the list."
      ]
    },
    {
      "cell_type": "code",
      "execution_count": 16,
      "id": "78de9fe8",
      "metadata": {
        "ExecuteTime": {
          "end_time": "2023-07-23T22:21:36.514592Z",
          "start_time": "2023-07-23T22:21:36.505437Z"
        },
        "id": "78de9fe8",
        "outputId": "c03bf7d3-2b3f-4b9c-afa6-0e2b2e7b4541",
        "colab": {
          "base_uri": "https://localhost:8080/"
        }
      },
      "outputs": [
        {
          "output_type": "stream",
          "name": "stdout",
          "text": [
            "Enter a list of numbers seperated by comas1,2,3,4,8,7\n",
            "number not found\n"
          ]
        }
      ],
      "source": [
        "x=list(map(int,input(\"Enter a list of numbers seperated by comas\").split(\",\")))\n",
        "\n",
        "element_remove=5\n",
        "if element_remove in x:\n",
        " x.remove(element_remove)\n",
        " print(\"element\",element_remove,\"is removed\")\n",
        "else:\n",
        "  print(\"number not found\")"
      ]
    },
    {
      "cell_type": "markdown",
      "id": "e1d1dcf9",
      "metadata": {
        "id": "e1d1dcf9"
      },
      "source": [
        "### 9- Given a number N and a list A of N numbers. Determine if the number X exists in array A or not and print its position (0-index)."
      ]
    },
    {
      "cell_type": "code",
      "execution_count": 21,
      "id": "2b002b0e",
      "metadata": {
        "ExecuteTime": {
          "end_time": "2023-07-23T22:53:41.474835Z",
          "start_time": "2023-07-23T22:53:41.458293Z"
        },
        "id": "2b002b0e",
        "outputId": "1b659d62-25e3-4fce-b44a-54aff9208a54",
        "colab": {
          "base_uri": "https://localhost:8080/"
        }
      },
      "outputs": [
        {
          "output_type": "stream",
          "name": "stdout",
          "text": [
            "enter a list if numbers seperated with comas1,2,3,4,5,6\n",
            "enter a number to allocate5\n",
            "position of 5 = 4\n"
          ]
        }
      ],
      "source": [
        "A=list(map(int,input(\"enter a list if numbers seperated with comas\").split(\",\")))\n",
        "x=int(input(\"enter a number to allocate\"))\n",
        "\n",
        "if x in A:\n",
        " location=A.index(x)\n",
        " print(\"position of\",x,\"=\",location)\n",
        "else:\n",
        "  print(\"number is not in the list\")"
      ]
    },
    {
      "cell_type": "markdown",
      "id": "f2ec854b",
      "metadata": {
        "id": "f2ec854b"
      },
      "source": [
        "### 10- Given a number N and a list A of N numbers. Determine if the array is lucky or not.\n",
        "\n",
        "#### Note: the array is lucky if the frequency (number of occurrence) of the minimum element is odd."
      ]
    },
    {
      "cell_type": "code",
      "execution_count": 4,
      "id": "0c4f7f4b",
      "metadata": {
        "ExecuteTime": {
          "end_time": "2023-07-23T23:02:02.490192Z",
          "start_time": "2023-07-23T23:02:02.476874Z"
        },
        "id": "0c4f7f4b",
        "outputId": "e171c513-320a-4e54-def5-03acb4d718f6",
        "colab": {
          "base_uri": "https://localhost:8080/"
        }
      },
      "outputs": [
        {
          "output_type": "stream",
          "name": "stdout",
          "text": [
            "enter a list of numbers seperated by comas1,5,7,1,5,1\n",
            "the array is not lucky\n"
          ]
        }
      ],
      "source": [
        "x=list(map(int,input(\"enter a list of numbers seperated by comas\").split(\",\")))\n",
        "sorted_x=sorted(x)\n",
        "min_x=min(x)\n",
        "occurrence=sorted_x.count(min_x)\n",
        "if occurrence %2==0:\n",
        "  print(\"the array is lucky\")\n",
        "else:\n",
        "  print(\"the array is not lucky\")"
      ]
    },
    {
      "cell_type": "markdown",
      "id": "e1ce1ae5",
      "metadata": {
        "id": "e1ce1ae5"
      },
      "source": [
        "### 11-Given a number N and a list A of N numbers. Print the array after doing the following operations:\n",
        "\n",
        "#### Find minimum number in these numbers.\n",
        "#### Find maximum number in these numbers.\n",
        "##### Swap minimum number with maximum number."
      ]
    },
    {
      "cell_type": "code",
      "execution_count": 7,
      "id": "e0d6e639",
      "metadata": {
        "ExecuteTime": {
          "end_time": "2023-07-23T23:10:04.293733Z",
          "start_time": "2023-07-23T23:10:04.280256Z"
        },
        "id": "e0d6e639",
        "outputId": "6e43eddc-e910-44cc-fb6b-b54821905d7a",
        "colab": {
          "base_uri": "https://localhost:8080/"
        }
      },
      "outputs": [
        {
          "output_type": "stream",
          "name": "stdout",
          "text": [
            "enter a list if numbers seperated by comas4,8,3,7,9,50,14,6\n",
            "updated list: [4, 8, 50, 7, 9, 3, 14, 6]\n"
          ]
        }
      ],
      "source": [
        "x=list(map(int, input(\"enter a list if numbers seperated by comas\").split(\",\")))\n",
        "min_x=min(x)\n",
        "max_x=max(x)\n",
        "\n",
        "index_min=x.index(min_x)\n",
        "index_max=x.index(max_x)\n",
        "\n",
        "x[index_min] , x[index_max] = x[index_max] , x[index_min]\n",
        "\n",
        "print(\"updated list:\",x)"
      ]
    },
    {
      "cell_type": "markdown",
      "id": "9eb8e9c5",
      "metadata": {
        "ExecuteTime": {
          "end_time": "2023-07-23T23:10:06.436833Z",
          "start_time": "2023-07-23T23:10:06.422086Z"
        },
        "id": "9eb8e9c5"
      },
      "source": [
        "### 12-Given a number N and an array A of N numbers. Print the lowest number and its position.\n",
        "\n",
        "### Note: if there are more than one answer print first one's position."
      ]
    },
    {
      "cell_type": "code",
      "execution_count": 30,
      "id": "018e01c8",
      "metadata": {
        "ExecuteTime": {
          "end_time": "2023-07-23T23:20:38.498527Z",
          "start_time": "2023-07-23T23:20:38.490451Z"
        },
        "id": "018e01c8",
        "outputId": "b9444c0d-a4ff-41be-dde4-df949d4844be",
        "colab": {
          "base_uri": "https://localhost:8080/",
          "height": 220
        }
      },
      "outputs": [
        {
          "name": "stdout",
          "output_type": "stream",
          "text": [
            "enter a list of numbers seperated by comas8,9,6,7,4,2\n"
          ]
        },
        {
          "output_type": "error",
          "ename": "TypeError",
          "evalue": "'int' object is not callable",
          "traceback": [
            "\u001b[0;31m---------------------------------------------------------------------------\u001b[0m",
            "\u001b[0;31mTypeError\u001b[0m                                 Traceback (most recent call last)",
            "\u001b[0;32m<ipython-input-30-b7d37faebc09>\u001b[0m in \u001b[0;36m<cell line: 0>\u001b[0;34m()\u001b[0m\n\u001b[1;32m      1\u001b[0m \u001b[0mx\u001b[0m\u001b[0;34m=\u001b[0m\u001b[0mlist\u001b[0m\u001b[0;34m(\u001b[0m\u001b[0mmap\u001b[0m\u001b[0;34m(\u001b[0m\u001b[0mint\u001b[0m\u001b[0;34m,\u001b[0m\u001b[0minput\u001b[0m\u001b[0;34m(\u001b[0m\u001b[0;34m\"enter a list of numbers seperated by comas\"\u001b[0m\u001b[0;34m)\u001b[0m\u001b[0;34m.\u001b[0m\u001b[0msplit\u001b[0m\u001b[0;34m(\u001b[0m\u001b[0;34m\",\"\u001b[0m\u001b[0;34m)\u001b[0m\u001b[0;34m)\u001b[0m\u001b[0;34m)\u001b[0m\u001b[0;34m\u001b[0m\u001b[0;34m\u001b[0m\u001b[0m\n\u001b[0;32m----> 2\u001b[0;31m \u001b[0msmall_value\u001b[0m\u001b[0;34m=\u001b[0m\u001b[0mmin\u001b[0m\u001b[0;34m(\u001b[0m\u001b[0mx\u001b[0m\u001b[0;34m)\u001b[0m\u001b[0;34m\u001b[0m\u001b[0;34m\u001b[0m\u001b[0m\n\u001b[0m\u001b[1;32m      3\u001b[0m \u001b[0msmall_pos\u001b[0m\u001b[0;34m=\u001b[0m\u001b[0mx\u001b[0m\u001b[0;34m.\u001b[0m\u001b[0mindex\u001b[0m\u001b[0;34m(\u001b[0m\u001b[0msmall_value\u001b[0m\u001b[0;34m)\u001b[0m\u001b[0;34m\u001b[0m\u001b[0;34m\u001b[0m\u001b[0m\n\u001b[1;32m      4\u001b[0m \u001b[0mprint\u001b[0m\u001b[0;34m(\u001b[0m\u001b[0;34m\"position of the lowest number=\"\u001b[0m\u001b[0;34m,\u001b[0m\u001b[0msmall_pos\u001b[0m\u001b[0;34m)\u001b[0m\u001b[0;34m\u001b[0m\u001b[0;34m\u001b[0m\u001b[0m\n",
            "\u001b[0;31mTypeError\u001b[0m: 'int' object is not callable"
          ]
        }
      ],
      "source": [
        "x=list(map(int,input(\"enter a list of numbers seperated by comas\").split(\",\")))\n",
        "small_value=min(x)\n",
        "small_pos=x.index(small_value)\n",
        "print(\"position of the lowest number=\",small_pos)"
      ]
    },
    {
      "cell_type": "markdown",
      "id": "f35d3427",
      "metadata": {
        "ExecuteTime": {
          "end_time": "2023-07-23T23:20:55.880128Z",
          "start_time": "2023-07-23T23:20:55.861804Z"
        },
        "id": "f35d3427"
      },
      "source": [
        "### 13-Given a number N and an array A of N numbers. Print the numbers after sorting them"
      ]
    },
    {
      "cell_type": "code",
      "execution_count": 8,
      "id": "a6e0edd4",
      "metadata": {
        "ExecuteTime": {
          "end_time": "2023-07-23T23:46:13.340484Z",
          "start_time": "2023-07-23T23:46:13.324468Z"
        },
        "id": "a6e0edd4",
        "outputId": "f53e2db2-cd0f-4cb8-c1e7-d175a389739c",
        "colab": {
          "base_uri": "https://localhost:8080/"
        }
      },
      "outputs": [
        {
          "output_type": "stream",
          "name": "stdout",
          "text": [
            "enter a list of numbers seperated by comas2,7,3,4,9,53,4\n",
            " [2, 3, 4, 4, 7, 9, 53]\n"
          ]
        }
      ],
      "source": [
        "x=list(map(int,input(\"enter a list of numbers seperated by comas\").split(\",\")))\n",
        "sorted_x=sorted(x)\n",
        "print(\"\",sorted_x)\n"
      ]
    },
    {
      "cell_type": "markdown",
      "id": "a172f354",
      "metadata": {
        "ExecuteTime": {
          "end_time": "2023-07-23T23:46:15.127981Z",
          "start_time": "2023-07-23T23:46:15.108766Z"
        },
        "id": "a172f354"
      },
      "source": [
        "### 14- Write a Python program to remove spaces from a given string"
      ]
    },
    {
      "cell_type": "code",
      "execution_count": 12,
      "id": "36d3569d",
      "metadata": {
        "ExecuteTime": {
          "end_time": "2023-07-23T23:50:06.443640Z",
          "start_time": "2023-07-23T23:50:01.592919Z"
        },
        "id": "36d3569d",
        "outputId": "6f91f41b-cd2e-48be-f9c5-3f102325a474",
        "colab": {
          "base_uri": "https://localhost:8080/"
        }
      },
      "outputs": [
        {
          "output_type": "stream",
          "name": "stdout",
          "text": [
            "enter a stringhello worled\n",
            " helloworled\n"
          ]
        }
      ],
      "source": [
        "  x=input(\"enter a string\")\n",
        "  x_new=x.replace(\" \",\"\")\n",
        "  print(\"\",x_new)"
      ]
    },
    {
      "cell_type": "markdown",
      "id": "a5470d49",
      "metadata": {
        "id": "a5470d49"
      },
      "source": [
        "### 17-write a Python program to swap first and last element of any list."
      ]
    },
    {
      "cell_type": "code",
      "execution_count": 16,
      "id": "9d73887b",
      "metadata": {
        "ExecuteTime": {
          "end_time": "2023-07-23T23:50:59.283429Z",
          "start_time": "2023-07-23T23:50:59.272096Z"
        },
        "id": "9d73887b",
        "outputId": "0f9f2329-3ad1-4288-9762-9608a2107f50",
        "colab": {
          "base_uri": "https://localhost:8080/"
        }
      },
      "outputs": [
        {
          "output_type": "stream",
          "name": "stdout",
          "text": [
            "enter a list of numbers seperated by comas1,2,3,4,5,6\n",
            " [6, 2, 3, 4, 5, 1]\n"
          ]
        }
      ],
      "source": [
        "x=list(map(int, input(\"enter a list of numbers seperated by comas\").split(\",\")))\n",
        "\n",
        "x[0],x[-1] = x[-1],x[0]\n",
        "\n",
        "print(\"\",x)"
      ]
    },
    {
      "cell_type": "markdown",
      "source": [
        "# **Write a Python Program to Find HCF.**\n",
        "## Highest Common Factor(HCF): HCF, or Highest Common Factor, is the largest positive integer that divides two or more numbers without leaving a remainder. Formula: For two numbers a and b, the HCF can be found using the formula:\n",
        "\n",
        "** HCF(𝑎, 𝑏) = GCD(𝑎, 𝑏)**\n",
        "For more than two numbers, you can find the HCF by taking the GCD of pairs of numbers at a time until you reach the last pair.\n",
        "\n",
        "# **Note: GCD stands for Greatest Common Divisor, use function.**\n"
      ],
      "metadata": {
        "id": "iS6JiE4uPbyH"
      },
      "id": "iS6JiE4uPbyH"
    },
    {
      "cell_type": "code",
      "source": [
        "a=int(input(\"enter first number\"))\n",
        "b=int(input(\"enter second number\"))\n",
        "\n",
        "if b==0:\n",
        " result= a\n",
        "\n",
        "else:\n",
        "  a, b = b, a%b\n",
        "  if b==0:\n",
        "   result= a\n",
        "print(\"HCF=\",result)\n",
        "\n",
        "#I realy tried I just cant understand the mathematics behind this process"
      ],
      "metadata": {
        "id": "9qUfYf0wPnvt",
        "outputId": "f140ef56-086b-42d3-89d2-6275aeffebea",
        "colab": {
          "base_uri": "https://localhost:8080/",
          "height": 220
        }
      },
      "id": "9qUfYf0wPnvt",
      "execution_count": 20,
      "outputs": [
        {
          "name": "stdout",
          "output_type": "stream",
          "text": [
            "enter first number60\n",
            "enter second number36\n"
          ]
        },
        {
          "output_type": "error",
          "ename": "NameError",
          "evalue": "name 'result' is not defined",
          "traceback": [
            "\u001b[0;31m---------------------------------------------------------------------------\u001b[0m",
            "\u001b[0;31mNameError\u001b[0m                                 Traceback (most recent call last)",
            "\u001b[0;32m<ipython-input-20-11f2c5367d69>\u001b[0m in \u001b[0;36m<cell line: 0>\u001b[0;34m()\u001b[0m\n\u001b[1;32m      9\u001b[0m   \u001b[0;32mif\u001b[0m \u001b[0mb\u001b[0m\u001b[0;34m==\u001b[0m\u001b[0;36m0\u001b[0m\u001b[0;34m:\u001b[0m\u001b[0;34m\u001b[0m\u001b[0;34m\u001b[0m\u001b[0m\n\u001b[1;32m     10\u001b[0m    \u001b[0mresult\u001b[0m\u001b[0;34m=\u001b[0m \u001b[0ma\u001b[0m\u001b[0;34m\u001b[0m\u001b[0;34m\u001b[0m\u001b[0m\n\u001b[0;32m---> 11\u001b[0;31m \u001b[0mprint\u001b[0m\u001b[0;34m(\u001b[0m\u001b[0;34m\"HCF=\"\u001b[0m\u001b[0;34m,\u001b[0m\u001b[0mresult\u001b[0m\u001b[0;34m)\u001b[0m\u001b[0;34m\u001b[0m\u001b[0;34m\u001b[0m\u001b[0m\n\u001b[0m",
            "\u001b[0;31mNameError\u001b[0m: name 'result' is not defined"
          ]
        }
      ]
    }
  ],
  "metadata": {
    "kernelspec": {
      "display_name": "Python 3 (ipykernel)",
      "language": "python",
      "name": "python3"
    },
    "language_info": {
      "codemirror_mode": {
        "name": "ipython",
        "version": 3
      },
      "file_extension": ".py",
      "mimetype": "text/x-python",
      "name": "python",
      "nbconvert_exporter": "python",
      "pygments_lexer": "ipython3",
      "version": "3.9.12"
    },
    "colab": {
      "provenance": []
    }
  },
  "nbformat": 4,
  "nbformat_minor": 5
}